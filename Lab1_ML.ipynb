{
 "cells": [
  {
   "cell_type": "code",
   "execution_count": 595,
   "metadata": {},
   "outputs": [],
   "source": [
    "import pandas as pd\n",
    "import sklearn as skl\n",
    "from ucimlrepo import fetch_ucirepo\n",
    "import math\n",
    "import numpy as np\n",
    "import queue\n",
    "from sklearn.neighbors import KNeighborsClassifier\n",
    "from sklearn.metrics import f1_score\n",
    "from sklearn.model_selection import train_test_split\n",
    "from collections import Counter\n",
    "import seaborn as sns\n",
    "import matplotlib.pyplot as plt"
   ]
  },
  {
   "cell_type": "code",
   "execution_count": 596,
   "metadata": {},
   "outputs": [],
   "source": [
    "plt.rcParams ['figure.figsize'] = [10, 7]\n",
    "sns.set();"
   ]
  },
  {
   "cell_type": "code",
   "execution_count": 2,
   "metadata": {},
   "outputs": [
    {
     "name": "stdout",
     "output_type": "stream",
     "text": [
      "{'uci_id': 53, 'name': 'Iris', 'repository_url': 'https://archive.ics.uci.edu/dataset/53/iris', 'data_url': 'https://archive.ics.uci.edu/static/public/53/data.csv', 'abstract': 'A small classic dataset from Fisher, 1936. One of the earliest known datasets used for evaluating classification methods.\\n', 'area': 'Life Science', 'tasks': ['Classification'], 'characteristics': ['Tabular'], 'num_instances': 150, 'num_features': 4, 'feature_types': ['Real'], 'demographics': [], 'target_col': ['class'], 'index_col': None, 'has_missing_values': 'no', 'missing_values_symbol': None, 'year_of_dataset_creation': 1936, 'last_updated': 'Tue Sep 12 2023', 'dataset_doi': '10.24432/C56C76', 'creators': ['R. A. Fisher'], 'intro_paper': {'title': 'The Iris data set: In search of the source of virginica', 'authors': 'A. Unwin, K. Kleinman', 'published_in': 'Significance, 2021', 'year': 2021, 'url': 'https://www.semanticscholar.org/paper/4599862ea877863669a6a8e63a3c707a787d5d7e', 'doi': '1740-9713.01589'}, 'additional_info': {'summary': 'This is one of the earliest datasets used in the literature on classification methods and widely used in statistics and machine learning.  The data set contains 3 classes of 50 instances each, where each class refers to a type of iris plant.  One class is linearly separable from the other 2; the latter are not linearly separable from each other.\\n\\nPredicted attribute: class of iris plant.\\n\\nThis is an exceedingly simple domain.\\n\\nThis data differs from the data presented in Fishers article (identified by Steve Chadwick,  spchadwick@espeedaz.net ).  The 35th sample should be: 4.9,3.1,1.5,0.2,\"Iris-setosa\" where the error is in the fourth feature. The 38th sample: 4.9,3.6,1.4,0.1,\"Iris-setosa\" where the errors are in the second and third features.  ', 'purpose': 'N/A', 'funded_by': None, 'instances_represent': 'Each instance is a plant', 'recommended_data_splits': None, 'sensitive_data': None, 'preprocessing_description': None, 'variable_info': None, 'citation': None}}\n",
      "           name     role         type demographic  \\\n",
      "0  sepal length  Feature   Continuous        None   \n",
      "1   sepal width  Feature   Continuous        None   \n",
      "2  petal length  Feature   Continuous        None   \n",
      "3   petal width  Feature   Continuous        None   \n",
      "4         class   Target  Categorical        None   \n",
      "\n",
      "                                         description units missing_values  \n",
      "0                                               None    cm             no  \n",
      "1                                               None    cm             no  \n",
      "2                                               None    cm             no  \n",
      "3                                               None    cm             no  \n",
      "4  class of iris plant: Iris Setosa, Iris Versico...  None             no  \n"
     ]
    }
   ],
   "source": [
    "# fetch dataset\n",
    "iris = fetch_ucirepo(id=53)\n",
    "\n",
    "# data (as pandas dataframes)\n",
    "df = iris.data.original\n",
    "\n",
    "# metadata\n",
    "print(iris.metadata)\n",
    "\n",
    "# variable information\n",
    "print(iris.variables)"
   ]
  },
  {
   "cell_type": "code",
   "execution_count": 3,
   "metadata": {},
   "outputs": [
    {
     "data": {
      "text/html": [
       "<div>\n",
       "<style scoped>\n",
       "    .dataframe tbody tr th:only-of-type {\n",
       "        vertical-align: middle;\n",
       "    }\n",
       "\n",
       "    .dataframe tbody tr th {\n",
       "        vertical-align: top;\n",
       "    }\n",
       "\n",
       "    .dataframe thead th {\n",
       "        text-align: right;\n",
       "    }\n",
       "</style>\n",
       "<table border=\"1\" class=\"dataframe\">\n",
       "  <thead>\n",
       "    <tr style=\"text-align: right;\">\n",
       "      <th></th>\n",
       "      <th>sepal length</th>\n",
       "      <th>sepal width</th>\n",
       "      <th>petal length</th>\n",
       "      <th>petal width</th>\n",
       "      <th>class</th>\n",
       "    </tr>\n",
       "  </thead>\n",
       "  <tbody>\n",
       "    <tr>\n",
       "      <th>0</th>\n",
       "      <td>5.1</td>\n",
       "      <td>3.5</td>\n",
       "      <td>1.4</td>\n",
       "      <td>0.2</td>\n",
       "      <td>Iris-setosa</td>\n",
       "    </tr>\n",
       "    <tr>\n",
       "      <th>1</th>\n",
       "      <td>4.9</td>\n",
       "      <td>3.0</td>\n",
       "      <td>1.4</td>\n",
       "      <td>0.2</td>\n",
       "      <td>Iris-setosa</td>\n",
       "    </tr>\n",
       "    <tr>\n",
       "      <th>2</th>\n",
       "      <td>4.7</td>\n",
       "      <td>3.2</td>\n",
       "      <td>1.3</td>\n",
       "      <td>0.2</td>\n",
       "      <td>Iris-setosa</td>\n",
       "    </tr>\n",
       "    <tr>\n",
       "      <th>3</th>\n",
       "      <td>4.6</td>\n",
       "      <td>3.1</td>\n",
       "      <td>1.5</td>\n",
       "      <td>0.2</td>\n",
       "      <td>Iris-setosa</td>\n",
       "    </tr>\n",
       "    <tr>\n",
       "      <th>4</th>\n",
       "      <td>5.0</td>\n",
       "      <td>3.6</td>\n",
       "      <td>1.4</td>\n",
       "      <td>0.2</td>\n",
       "      <td>Iris-setosa</td>\n",
       "    </tr>\n",
       "  </tbody>\n",
       "</table>\n",
       "</div>"
      ],
      "text/plain": [
       "   sepal length  sepal width  petal length  petal width        class\n",
       "0           5.1          3.5           1.4          0.2  Iris-setosa\n",
       "1           4.9          3.0           1.4          0.2  Iris-setosa\n",
       "2           4.7          3.2           1.3          0.2  Iris-setosa\n",
       "3           4.6          3.1           1.5          0.2  Iris-setosa\n",
       "4           5.0          3.6           1.4          0.2  Iris-setosa"
      ]
     },
     "execution_count": 3,
     "metadata": {},
     "output_type": "execute_result"
    }
   ],
   "source": [
    "df.head(5)"
   ]
  },
  {
   "cell_type": "markdown",
   "metadata": {},
   "source": [
    "Сделаем исследовательский анализ данных, чтобы выявить дубликаты, пропущенные значения и неадекватные значения"
   ]
  },
  {
   "cell_type": "code",
   "execution_count": 4,
   "metadata": {},
   "outputs": [
    {
     "data": {
      "text/html": [
       "<div>\n",
       "<style scoped>\n",
       "    .dataframe tbody tr th:only-of-type {\n",
       "        vertical-align: middle;\n",
       "    }\n",
       "\n",
       "    .dataframe tbody tr th {\n",
       "        vertical-align: top;\n",
       "    }\n",
       "\n",
       "    .dataframe thead th {\n",
       "        text-align: right;\n",
       "    }\n",
       "</style>\n",
       "<table border=\"1\" class=\"dataframe\">\n",
       "  <thead>\n",
       "    <tr style=\"text-align: right;\">\n",
       "      <th></th>\n",
       "      <th>sepal length</th>\n",
       "      <th>sepal width</th>\n",
       "      <th>petal length</th>\n",
       "      <th>petal width</th>\n",
       "      <th>class</th>\n",
       "    </tr>\n",
       "  </thead>\n",
       "  <tbody>\n",
       "    <tr>\n",
       "      <th>9</th>\n",
       "      <td>4.9</td>\n",
       "      <td>3.1</td>\n",
       "      <td>1.5</td>\n",
       "      <td>0.1</td>\n",
       "      <td>Iris-setosa</td>\n",
       "    </tr>\n",
       "    <tr>\n",
       "      <th>34</th>\n",
       "      <td>4.9</td>\n",
       "      <td>3.1</td>\n",
       "      <td>1.5</td>\n",
       "      <td>0.1</td>\n",
       "      <td>Iris-setosa</td>\n",
       "    </tr>\n",
       "    <tr>\n",
       "      <th>37</th>\n",
       "      <td>4.9</td>\n",
       "      <td>3.1</td>\n",
       "      <td>1.5</td>\n",
       "      <td>0.1</td>\n",
       "      <td>Iris-setosa</td>\n",
       "    </tr>\n",
       "    <tr>\n",
       "      <th>101</th>\n",
       "      <td>5.8</td>\n",
       "      <td>2.7</td>\n",
       "      <td>5.1</td>\n",
       "      <td>1.9</td>\n",
       "      <td>Iris-virginica</td>\n",
       "    </tr>\n",
       "    <tr>\n",
       "      <th>142</th>\n",
       "      <td>5.8</td>\n",
       "      <td>2.7</td>\n",
       "      <td>5.1</td>\n",
       "      <td>1.9</td>\n",
       "      <td>Iris-virginica</td>\n",
       "    </tr>\n",
       "  </tbody>\n",
       "</table>\n",
       "</div>"
      ],
      "text/plain": [
       "     sepal length  sepal width  petal length  petal width           class\n",
       "9             4.9          3.1           1.5          0.1     Iris-setosa\n",
       "34            4.9          3.1           1.5          0.1     Iris-setosa\n",
       "37            4.9          3.1           1.5          0.1     Iris-setosa\n",
       "101           5.8          2.7           5.1          1.9  Iris-virginica\n",
       "142           5.8          2.7           5.1          1.9  Iris-virginica"
      ]
     },
     "execution_count": 4,
     "metadata": {},
     "output_type": "execute_result"
    }
   ],
   "source": [
    "# Посмотрим на дубликаты\n",
    "df[df.duplicated(keep = False)]"
   ]
  },
  {
   "cell_type": "code",
   "execution_count": 5,
   "metadata": {},
   "outputs": [
    {
     "data": {
      "text/html": [
       "<div>\n",
       "<style scoped>\n",
       "    .dataframe tbody tr th:only-of-type {\n",
       "        vertical-align: middle;\n",
       "    }\n",
       "\n",
       "    .dataframe tbody tr th {\n",
       "        vertical-align: top;\n",
       "    }\n",
       "\n",
       "    .dataframe thead th {\n",
       "        text-align: right;\n",
       "    }\n",
       "</style>\n",
       "<table border=\"1\" class=\"dataframe\">\n",
       "  <thead>\n",
       "    <tr style=\"text-align: right;\">\n",
       "      <th></th>\n",
       "      <th>sepal length</th>\n",
       "      <th>sepal width</th>\n",
       "      <th>petal length</th>\n",
       "      <th>petal width</th>\n",
       "      <th>class</th>\n",
       "    </tr>\n",
       "  </thead>\n",
       "  <tbody>\n",
       "  </tbody>\n",
       "</table>\n",
       "</div>"
      ],
      "text/plain": [
       "Empty DataFrame\n",
       "Columns: [sepal length, sepal width, petal length, petal width, class]\n",
       "Index: []"
      ]
     },
     "execution_count": 5,
     "metadata": {},
     "output_type": "execute_result"
    }
   ],
   "source": [
    "# Уберем их из датасета, проведем проверку\n",
    "df = df.drop_duplicates()\n",
    "\n",
    "df[df.duplicated(keep = False)]"
   ]
  },
  {
   "cell_type": "markdown",
   "metadata": {},
   "source": [
    "Вывод: В результате проверки получили пустой датасет, значит дубликатов в данных не осталось"
   ]
  },
  {
   "cell_type": "code",
   "execution_count": 6,
   "metadata": {},
   "outputs": [
    {
     "data": {
      "text/plain": [
       "sepal length    False\n",
       "sepal width     False\n",
       "petal length    False\n",
       "petal width     False\n",
       "class           False\n",
       "dtype: bool"
      ]
     },
     "execution_count": 6,
     "metadata": {},
     "output_type": "execute_result"
    }
   ],
   "source": [
    "# Посмотрим, есть ли пропущенные значения\n",
    "df.isnull().any()"
   ]
  },
  {
   "cell_type": "markdown",
   "metadata": {},
   "source": [
    "Вывод: Пропущенных значений нет"
   ]
  },
  {
   "cell_type": "code",
   "execution_count": 7,
   "metadata": {},
   "outputs": [
    {
     "data": {
      "text/html": [
       "<div>\n",
       "<style scoped>\n",
       "    .dataframe tbody tr th:only-of-type {\n",
       "        vertical-align: middle;\n",
       "    }\n",
       "\n",
       "    .dataframe tbody tr th {\n",
       "        vertical-align: top;\n",
       "    }\n",
       "\n",
       "    .dataframe thead th {\n",
       "        text-align: right;\n",
       "    }\n",
       "</style>\n",
       "<table border=\"1\" class=\"dataframe\">\n",
       "  <thead>\n",
       "    <tr style=\"text-align: right;\">\n",
       "      <th></th>\n",
       "      <th>sepal length</th>\n",
       "      <th>sepal width</th>\n",
       "      <th>petal length</th>\n",
       "      <th>petal width</th>\n",
       "    </tr>\n",
       "  </thead>\n",
       "  <tbody>\n",
       "    <tr>\n",
       "      <th>count</th>\n",
       "      <td>147.000000</td>\n",
       "      <td>147.000000</td>\n",
       "      <td>147.000000</td>\n",
       "      <td>147.000000</td>\n",
       "    </tr>\n",
       "    <tr>\n",
       "      <th>mean</th>\n",
       "      <td>5.856463</td>\n",
       "      <td>3.055782</td>\n",
       "      <td>3.780272</td>\n",
       "      <td>1.208844</td>\n",
       "    </tr>\n",
       "    <tr>\n",
       "      <th>std</th>\n",
       "      <td>0.829100</td>\n",
       "      <td>0.437009</td>\n",
       "      <td>1.759111</td>\n",
       "      <td>0.757874</td>\n",
       "    </tr>\n",
       "    <tr>\n",
       "      <th>min</th>\n",
       "      <td>4.300000</td>\n",
       "      <td>2.000000</td>\n",
       "      <td>1.000000</td>\n",
       "      <td>0.100000</td>\n",
       "    </tr>\n",
       "    <tr>\n",
       "      <th>25%</th>\n",
       "      <td>5.100000</td>\n",
       "      <td>2.800000</td>\n",
       "      <td>1.600000</td>\n",
       "      <td>0.300000</td>\n",
       "    </tr>\n",
       "    <tr>\n",
       "      <th>50%</th>\n",
       "      <td>5.800000</td>\n",
       "      <td>3.000000</td>\n",
       "      <td>4.400000</td>\n",
       "      <td>1.300000</td>\n",
       "    </tr>\n",
       "    <tr>\n",
       "      <th>75%</th>\n",
       "      <td>6.400000</td>\n",
       "      <td>3.300000</td>\n",
       "      <td>5.100000</td>\n",
       "      <td>1.800000</td>\n",
       "    </tr>\n",
       "    <tr>\n",
       "      <th>max</th>\n",
       "      <td>7.900000</td>\n",
       "      <td>4.400000</td>\n",
       "      <td>6.900000</td>\n",
       "      <td>2.500000</td>\n",
       "    </tr>\n",
       "  </tbody>\n",
       "</table>\n",
       "</div>"
      ],
      "text/plain": [
       "       sepal length  sepal width  petal length  petal width\n",
       "count    147.000000   147.000000    147.000000   147.000000\n",
       "mean       5.856463     3.055782      3.780272     1.208844\n",
       "std        0.829100     0.437009      1.759111     0.757874\n",
       "min        4.300000     2.000000      1.000000     0.100000\n",
       "25%        5.100000     2.800000      1.600000     0.300000\n",
       "50%        5.800000     3.000000      4.400000     1.300000\n",
       "75%        6.400000     3.300000      5.100000     1.800000\n",
       "max        7.900000     4.400000      6.900000     2.500000"
      ]
     },
     "execution_count": 7,
     "metadata": {},
     "output_type": "execute_result"
    }
   ],
   "source": [
    "df.describe()"
   ]
  },
  {
   "cell_type": "code",
   "execution_count": 597,
   "metadata": {},
   "outputs": [
    {
     "data": {
      "text/plain": [
       "Text(0.5, 1.0, 'Гистограмма sepal length')"
      ]
     },
     "execution_count": 597,
     "metadata": {},
     "output_type": "execute_result"
    },
    {
     "data": {
      "image/png": "[encoded data removed]",
      "text/plain": [
       "<Figure size 720x504 with 1 Axes>"
      ]
     },
     "metadata": {},
     "output_type": "display_data"
    }
   ],
   "source": [
    "sns.histplot(data=df['sepal length'])\n",
    "\n",
    "plt.title('Гистограмма sepal length')"
   ]
  },
  {
   "cell_type": "code",
   "execution_count": 598,
   "metadata": {},
   "outputs": [
    {
     "data": {
      "text/plain": [
       "Text(0.5, 1.0, 'Гистограмма sepal width')"
      ]
     },
     "execution_count": 598,
     "metadata": {},
     "output_type": "execute_result"
    },
    {
     "data": {
      "image/png": "[encoded data removed]",
      "text/plain": [
       "<Figure size 720x504 with 1 Axes>"
      ]
     },
     "metadata": {},
     "output_type": "display_data"
    }
   ],
   "source": [
    "sns.histplot(data=df['sepal width'])\n",
    "plt.title('Гистограмма sepal width')"
   ]
  },
  {
   "cell_type": "code",
   "execution_count": 599,
   "metadata": {},
   "outputs": [
    {
     "data": {
      "text/plain": [
       "Text(0.5, 1.0, 'Гистограмма petal length')"
      ]
     },
     "execution_count": 599,
     "metadata": {},
     "output_type": "execute_result"
    },
    {
     "data": {
      "image/png": "[encoded data removed]",
      "text/plain": [
       "<Figure size 720x504 with 1 Axes>"
      ]
     },
     "metadata": {},
     "output_type": "display_data"
    }
   ],
   "source": [
    "sns.histplot(data=df['petal length'])\n",
    "plt.title('Гистограмма petal length')"
   ]
  },
  {
   "cell_type": "code",
   "execution_count": 600,
   "metadata": {},
   "outputs": [
    {
     "data": {
      "text/plain": [
       "Text(0.5, 1.0, 'Гистограмма petal width')"
      ]
     },
     "execution_count": 600,
     "metadata": {},
     "output_type": "execute_result"
    },
    {
     "data": {
      "image/png": "[encoded data removed]",
      "text/plain": [
       "<Figure size 720x504 with 1 Axes>"
      ]
     },
     "metadata": {},
     "output_type": "display_data"
    }
   ],
   "source": [
    "sns.histplot(data=df['petal width'])\n",
    "plt.title('Гистограмма petal width')"
   ]
  },
  {
   "cell_type": "code",
   "execution_count": 601,
   "metadata": {},
   "outputs": [
    {
     "data": {
      "image/png": "[encoded data removed]",
      "text/plain": [
       "<Figure size 720x504 with 1 Axes>"
      ]
     },
     "metadata": {},
     "output_type": "display_data"
    }
   ],
   "source": [
    "df.groupby('class')['sepal length'].mean().plot(kind='bar') \n",
    "plt.ylabel('sepal length') # добавляем подпись на оси Оу\n",
    "plt.show();"
   ]
  },
  {
   "cell_type": "code",
   "execution_count": 602,
   "metadata": {},
   "outputs": [
    {
     "data": {
      "image/png": "[encoded data removed]",
      "text/plain": [
       "<Figure size 720x504 with 1 Axes>"
      ]
     },
     "metadata": {},
     "output_type": "display_data"
    }
   ],
   "source": [
    "df.groupby('class')['sepal width'].mean().plot(kind='bar') \n",
    "plt.ylabel('sepal width') # добавляем подпись на оси Оу\n",
    "plt.show();"
   ]
  },
  {
   "cell_type": "code",
   "execution_count": 603,
   "metadata": {},
   "outputs": [
    {
     "data": {
      "image/png": "[encoded data removed]",
      "text/plain": [
       "<Figure size 720x504 with 1 Axes>"
      ]
     },
     "metadata": {},
     "output_type": "display_data"
    }
   ],
   "source": [
    "df.groupby('class')['petal length'].mean().plot(kind='bar') \n",
    "plt.ylabel('petal length') # добавляем подпись на оси Оу\n",
    "plt.show();"
   ]
  },
  {
   "cell_type": "code",
   "execution_count": 605,
   "metadata": {},
   "outputs": [
    {
     "data": {
      "image/png": "[encoded data removed]",
      "text/plain": [
       "<Figure size 720x504 with 1 Axes>"
      ]
     },
     "metadata": {},
     "output_type": "display_data"
    }
   ],
   "source": [
    "df.groupby('class')['petal width'].mean().plot(kind='bar') \n",
    "plt.ylabel('petal width') # добавляем подпись на оси Оу\n",
    "plt.show();"
   ]
  },
  {
   "cell_type": "code",
   "execution_count": 8,
   "metadata": {},
   "outputs": [
    {
     "data": {
      "text/plain": [
       "<AxesSubplot:>"
      ]
     },
     "execution_count": 8,
     "metadata": {},
     "output_type": "execute_result"
    },
    {
     "data": {
      "image/png": "[encoded data removed]",
      "text/plain": [
       "<Figure size 432x288 with 1 Axes>"
      ]
     },
     "metadata": {
      "needs_background": "light"
     },
     "output_type": "display_data"
    }
   ],
   "source": [
    "# Посмотрим, есть ли в датасете неадекватные значения:\n",
    "df.boxplot(column = ['sepal length', 'sepal width', 'petal length', 'petal width'])"
   ]
  },
  {
   "cell_type": "markdown",
   "metadata": {},
   "source": [
    "Вывод: Неадекватных значений нет (все признаки лежат выше нуля), сильных выбросов в данных нет"
   ]
  },
  {
   "cell_type": "markdown",
   "metadata": {},
   "source": [
    "# Построение kNN классификатора"
   ]
  },
  {
   "cell_type": "markdown",
   "metadata": {},
   "source": [
    "Разделим исходную выборку на обучающую и тестовую"
   ]
  },
  {
   "cell_type": "code",
   "execution_count": 142,
   "metadata": {},
   "outputs": [],
   "source": [
    "X_train, X_test, y_train, y_test = train_test_split(df.drop('class', axis = 1),\n",
    "                                                    df['class'],\n",
    "                                                    test_size = 0.2,\n",
    "                                                    random_state = 54545)"
   ]
  },
  {
   "cell_type": "code",
   "execution_count": null,
   "metadata": {},
   "outputs": [],
   "source": []
  },
  {
   "cell_type": "code",
   "execution_count": 529,
   "metadata": {},
   "outputs": [],
   "source": [
    "## Метрики расстояния\n",
    "def euclid_distance(point_1, point_2):\n",
    "    return np.linalg.norm(point_1 - point_2)\n",
    "\n",
    "def manhattan_distance(point_1, point_2):\n",
    "    return sum(abs(point_1 - point_2))\n",
    "\n",
    "## Ядра\n",
    "def linear_kernel(dist, max_dist):\n",
    "    return (max_dist - dist)/max_dist\n",
    "\n",
    "def quadric_kernel(dist, max_dist):\n",
    "    return (max_dist ** 2 - (dist/max_dist) ** 2)/(max_dist ** 2)"
   ]
  },
  {
   "cell_type": "markdown",
   "metadata": {},
   "source": [
    "Реализация обычного KNN"
   ]
  },
  {
   "cell_type": "code",
   "execution_count": 586,
   "metadata": {},
   "outputs": [],
   "source": [
    "## Влад\n",
    "## Обычный KNN а также KNN с парзеновским окном, реализованный с помощью очередей с приоритетами\n",
    "class MyKNearestNeighbors:\n",
    "    ## TODO: Добавить KNN С Парзен-Розенблат\n",
    "    def __init__(self, k, distance_metric, x_train, y_train, mode = \"Standard\", kernel = None, max_dist = None):\n",
    "        self.k = k\n",
    "        self.distance_metric = distance_metric\n",
    "        self.x_train = x_train\n",
    "        self.y_train = y_train\n",
    "        self.mode = mode\n",
    "        \n",
    "        ## Parzen params\n",
    "        self.kernel = kernel\n",
    "        self.max_dist = max_dist\n",
    "        \n",
    "        \n",
    "    def neighbours(self, input_x):\n",
    "        if self.mode == \"Standard\":\n",
    "            return self._neighbours_standard(input_x)\n",
    "        if self.mode == \"Parzen\":\n",
    "            return self._neighbours_parzen(input_x)\n",
    "            \n",
    "    \n",
    "    def _neighbours_standard(self, input_x):\n",
    "        heap = []\n",
    "        heapq.heapify(heap)\n",
    "        for x,y in zip(self.x_train, self.y_train):\n",
    "            dist = self.distance_metric(input_x,x)\n",
    "            heapq.heappush(heap, (-dist + np.random.normal(-1e-12,1e-12),(x,y)))\n",
    "            if len(heap) > self.k:\n",
    "                heapq.heappop(heap)\n",
    "            \n",
    "        return heap\n",
    "    \n",
    "    def _neighbours_parzen(self, input_x):\n",
    "        #TODO: Написать вычисление соседей для KNN с Парзеновским окном\n",
    "        heap = []\n",
    "        heapq.heapify(heap)\n",
    "        for x,y in zip(self.x_train, self.y_train):\n",
    "            dist = self.distance_metric(input_x,x)\n",
    "            if dist >= self.max_dist:\n",
    "                continue\n",
    "            heapq.heappush(heap, (-self.kernel(dist, self.max_dist) + np.random.normal(-1e-12,1e-12),(x,y)))\n",
    "        return heap\n",
    "    \n",
    "    def predict(self, x_input):\n",
    "        if self.mode == \"Standard\":\n",
    "            return self._predict_standard(x_input)\n",
    "        if self.mode == \"Parzen\":\n",
    "            return self._predict_parzen(x_input)\n",
    "        \n",
    "        \n",
    "    def _predict_standard(self,x_input):\n",
    "        neighbours = self.neighbours(x_input)\n",
    "        cnt_dict = {}\n",
    "        for ngh in neighbours:\n",
    "            label = ngh[1][1]\n",
    "            if label in cnt_dict:\n",
    "                cnt_dict[label] += 1\n",
    "            else:\n",
    "                cnt_dict[label] = 1\n",
    "        return max(cnt_dict, key=cnt_dict.get)\n",
    "    \n",
    "    def _predict_parzen(self, x_input):\n",
    "        neighbours = self.neighbours(x_input)\n",
    "        cnt_dict = {}\n",
    "        for ngh in neighbours:\n",
    "            label = ngh[1][1]\n",
    "            if label in cnt_dict:\n",
    "                cnt_dict[label] += 1\n",
    "            else:\n",
    "                cnt_dict[label] = 1\n",
    "        return max(cnt_dict, key=cnt_dict.get)\n",
    "    \n",
    " \n",
    "    def predict_dataset(self, x_test):\n",
    "        res = []\n",
    "        for x in x_test:\n",
    "            res.append(self.predict(x))\n",
    "        return np.array(res)\n",
    "            "
   ]
  },
  {
   "cell_type": "code",
   "execution_count": 581,
   "metadata": {},
   "outputs": [],
   "source": [
    "## Сравнение своей модели и sklearn (Влад)\n",
    "def comparasion_models(kmin, kmax, my_model, distance_metric, X_train, y_train, X_test, y_test):\n",
    "  stats = pd.DataFrame(columns = ['my_model','my_model_time', 'skl_model',\"sklean_model_time\", 'k_value'])\n",
    "\n",
    "  for k in range (kmin, kmax+1):\n",
    "    knn = KNeighborsClassifier(k).fit(X_train, y_train)\n",
    "    my_knn = my_model(k, distance_metric, X_train, y_train)\n",
    "    t1 = time.time()\n",
    "    sk_pred = knn.predict(X_test)\n",
    "    t2 = time.time()\n",
    "    sklearn_time = t2 - t1\n",
    "    \n",
    "    t1 = time.time()\n",
    "    my_pred = my_knn.predict_dataset(X_test)\n",
    "    t2 = time.time()\n",
    "    my_knn_time = t2 - t1\n",
    "\n",
    "    sk_er = f1_score(y_test, sk_pred, average = 'micro')\n",
    "    my_er = f1_score(y_test, my_pred, average = 'micro')\n",
    "    result = {'my_model' : round(my_er, 2),\n",
    "              'my_model_time': my_knn_time,\n",
    "              'skl_model' : round(sk_er, 2),\n",
    "              'sklean_model_time': sklearn_time,\n",
    "              'k_value' : k}\n",
    "\n",
    "    stats = pd.concat([stats, pd.DataFrame(result, index = [k])])\n",
    "  return stats\n",
    "\n",
    "## Сравнение своей модели c окном Парзена и модели из sklearn (Влад)\n",
    "\n",
    "def comparasion_models_parzen(max_dist_lower, max_dist_upper, my_model, distance_metric, X_train, y_train, X_test, y_test):\n",
    "    #TODO:Дописать функцию\n",
    "  stats = pd.DataFrame(columns = ['my_model','my_model_time', 'skl_model',\"sklean_model_time\", 'k_value'])\n",
    "\n",
    "  for k in range (kmin, kmax+1):\n",
    "    knn = KNeighborsClassifier(k).fit(X_train, y_train)\n",
    "    my_knn = my_model(k, distance_metric, X_train, y_train)\n",
    "    t1 = time.time()\n",
    "    sk_pred = knn.predict(X_test)\n",
    "    t2 = time.time()\n",
    "    sklearn_time = t2 - t1\n",
    "    \n",
    "    t1 = time.time()\n",
    "    my_pred = my_knn.predict_dataset(X_test)\n",
    "    t2 = time.time()\n",
    "    my_knn_time = t2 - t1\n",
    "\n",
    "    sk_er = f1_score(y_test, sk_pred, average = 'micro')\n",
    "    my_er = f1_score(y_test, my_pred, average = 'micro')\n",
    "    result = {'my_model' : round(my_er, 2),\n",
    "              'my_model_time': my_knn_time,\n",
    "              'skl_model' : round(sk_er, 2),\n",
    "              'sklean_model_time': sklearn_time,\n",
    "              'k_value' : k}\n",
    "\n",
    "    stats = pd.concat([stats, pd.DataFrame(result, index = [k])])\n",
    "  return stats"
   ]
  },
  {
   "cell_type": "code",
   "execution_count": 528,
   "metadata": {},
   "outputs": [
    {
     "data": {
      "text/html": [
       "<div>\n",
       "<style scoped>\n",
       "    .dataframe tbody tr th:only-of-type {\n",
       "        vertical-align: middle;\n",
       "    }\n",
       "\n",
       "    .dataframe tbody tr th {\n",
       "        vertical-align: top;\n",
       "    }\n",
       "\n",
       "    .dataframe thead th {\n",
       "        text-align: right;\n",
       "    }\n",
       "</style>\n",
       "<table border=\"1\" class=\"dataframe\">\n",
       "  <thead>\n",
       "    <tr style=\"text-align: right;\">\n",
       "      <th></th>\n",
       "      <th>my_model</th>\n",
       "      <th>my_model_time</th>\n",
       "      <th>skl_model</th>\n",
       "      <th>sklean_model_time</th>\n",
       "      <th>k_value</th>\n",
       "    </tr>\n",
       "  </thead>\n",
       "  <tbody>\n",
       "    <tr>\n",
       "      <th>1</th>\n",
       "      <td>0.90</td>\n",
       "      <td>0.143027</td>\n",
       "      <td>0.90</td>\n",
       "      <td>0.007002</td>\n",
       "      <td>1</td>\n",
       "    </tr>\n",
       "    <tr>\n",
       "      <th>2</th>\n",
       "      <td>0.90</td>\n",
       "      <td>0.132996</td>\n",
       "      <td>0.87</td>\n",
       "      <td>0.004000</td>\n",
       "      <td>2</td>\n",
       "    </tr>\n",
       "    <tr>\n",
       "      <th>3</th>\n",
       "      <td>0.93</td>\n",
       "      <td>0.116007</td>\n",
       "      <td>0.93</td>\n",
       "      <td>0.002999</td>\n",
       "      <td>3</td>\n",
       "    </tr>\n",
       "    <tr>\n",
       "      <th>4</th>\n",
       "      <td>0.97</td>\n",
       "      <td>0.150010</td>\n",
       "      <td>0.97</td>\n",
       "      <td>0.004003</td>\n",
       "      <td>4</td>\n",
       "    </tr>\n",
       "    <tr>\n",
       "      <th>5</th>\n",
       "      <td>0.93</td>\n",
       "      <td>0.123027</td>\n",
       "      <td>0.93</td>\n",
       "      <td>0.003998</td>\n",
       "      <td>5</td>\n",
       "    </tr>\n",
       "    <tr>\n",
       "      <th>6</th>\n",
       "      <td>0.93</td>\n",
       "      <td>0.114927</td>\n",
       "      <td>0.93</td>\n",
       "      <td>0.004985</td>\n",
       "      <td>6</td>\n",
       "    </tr>\n",
       "    <tr>\n",
       "      <th>7</th>\n",
       "      <td>0.97</td>\n",
       "      <td>0.120048</td>\n",
       "      <td>0.93</td>\n",
       "      <td>0.002982</td>\n",
       "      <td>7</td>\n",
       "    </tr>\n",
       "    <tr>\n",
       "      <th>8</th>\n",
       "      <td>0.93</td>\n",
       "      <td>0.147032</td>\n",
       "      <td>0.93</td>\n",
       "      <td>0.003000</td>\n",
       "      <td>8</td>\n",
       "    </tr>\n",
       "    <tr>\n",
       "      <th>9</th>\n",
       "      <td>0.97</td>\n",
       "      <td>0.133385</td>\n",
       "      <td>0.97</td>\n",
       "      <td>0.004001</td>\n",
       "      <td>9</td>\n",
       "    </tr>\n",
       "    <tr>\n",
       "      <th>10</th>\n",
       "      <td>0.90</td>\n",
       "      <td>0.126030</td>\n",
       "      <td>0.93</td>\n",
       "      <td>0.004919</td>\n",
       "      <td>10</td>\n",
       "    </tr>\n",
       "    <tr>\n",
       "      <th>11</th>\n",
       "      <td>0.97</td>\n",
       "      <td>0.121116</td>\n",
       "      <td>0.97</td>\n",
       "      <td>0.003998</td>\n",
       "      <td>11</td>\n",
       "    </tr>\n",
       "    <tr>\n",
       "      <th>12</th>\n",
       "      <td>0.93</td>\n",
       "      <td>0.126048</td>\n",
       "      <td>0.93</td>\n",
       "      <td>0.003997</td>\n",
       "      <td>12</td>\n",
       "    </tr>\n",
       "    <tr>\n",
       "      <th>13</th>\n",
       "      <td>0.93</td>\n",
       "      <td>0.125031</td>\n",
       "      <td>0.93</td>\n",
       "      <td>0.003999</td>\n",
       "      <td>13</td>\n",
       "    </tr>\n",
       "    <tr>\n",
       "      <th>14</th>\n",
       "      <td>0.97</td>\n",
       "      <td>0.117011</td>\n",
       "      <td>0.90</td>\n",
       "      <td>0.004982</td>\n",
       "      <td>14</td>\n",
       "    </tr>\n",
       "    <tr>\n",
       "      <th>15</th>\n",
       "      <td>0.97</td>\n",
       "      <td>0.120005</td>\n",
       "      <td>0.97</td>\n",
       "      <td>0.004028</td>\n",
       "      <td>15</td>\n",
       "    </tr>\n",
       "    <tr>\n",
       "      <th>16</th>\n",
       "      <td>0.90</td>\n",
       "      <td>0.117047</td>\n",
       "      <td>0.93</td>\n",
       "      <td>0.004000</td>\n",
       "      <td>16</td>\n",
       "    </tr>\n",
       "    <tr>\n",
       "      <th>17</th>\n",
       "      <td>0.93</td>\n",
       "      <td>0.134995</td>\n",
       "      <td>0.93</td>\n",
       "      <td>0.004000</td>\n",
       "      <td>17</td>\n",
       "    </tr>\n",
       "    <tr>\n",
       "      <th>18</th>\n",
       "      <td>0.90</td>\n",
       "      <td>0.122009</td>\n",
       "      <td>0.90</td>\n",
       "      <td>0.004017</td>\n",
       "      <td>18</td>\n",
       "    </tr>\n",
       "    <tr>\n",
       "      <th>19</th>\n",
       "      <td>0.90</td>\n",
       "      <td>0.117010</td>\n",
       "      <td>0.90</td>\n",
       "      <td>0.004000</td>\n",
       "      <td>19</td>\n",
       "    </tr>\n",
       "    <tr>\n",
       "      <th>20</th>\n",
       "      <td>0.90</td>\n",
       "      <td>0.121017</td>\n",
       "      <td>0.90</td>\n",
       "      <td>0.003999</td>\n",
       "      <td>20</td>\n",
       "    </tr>\n",
       "  </tbody>\n",
       "</table>\n",
       "</div>"
      ],
      "text/plain": [
       "    my_model  my_model_time  skl_model  sklean_model_time k_value\n",
       "1       0.90       0.143027       0.90           0.007002       1\n",
       "2       0.90       0.132996       0.87           0.004000       2\n",
       "3       0.93       0.116007       0.93           0.002999       3\n",
       "4       0.97       0.150010       0.97           0.004003       4\n",
       "5       0.93       0.123027       0.93           0.003998       5\n",
       "6       0.93       0.114927       0.93           0.004985       6\n",
       "7       0.97       0.120048       0.93           0.002982       7\n",
       "8       0.93       0.147032       0.93           0.003000       8\n",
       "9       0.97       0.133385       0.97           0.004001       9\n",
       "10      0.90       0.126030       0.93           0.004919      10\n",
       "11      0.97       0.121116       0.97           0.003998      11\n",
       "12      0.93       0.126048       0.93           0.003997      12\n",
       "13      0.93       0.125031       0.93           0.003999      13\n",
       "14      0.97       0.117011       0.90           0.004982      14\n",
       "15      0.97       0.120005       0.97           0.004028      15\n",
       "16      0.90       0.117047       0.93           0.004000      16\n",
       "17      0.93       0.134995       0.93           0.004000      17\n",
       "18      0.90       0.122009       0.90           0.004017      18\n",
       "19      0.90       0.117010       0.90           0.004000      19\n",
       "20      0.90       0.121017       0.90           0.003999      20"
      ]
     },
     "execution_count": 528,
     "metadata": {},
     "output_type": "execute_result"
    }
   ],
   "source": [
    "comparasion_models(1,20,MyKNearestNeighbors, euclid_distance, X_train.to_numpy(), y_train, X_test.to_numpy(), y_test.to_numpy())"
   ]
  },
  {
   "cell_type": "code",
   "execution_count": 587,
   "metadata": {},
   "outputs": [],
   "source": [
    "knn = MyKNearestNeighbors(None, manhattan_distance, X_train.to_numpy(), y_train,mode = \"Parzen\", kernel = quadric_kernel, max_dist = 1.3 )"
   ]
  },
  {
   "cell_type": "code",
   "execution_count": 588,
   "metadata": {},
   "outputs": [
    {
     "data": {
      "text/plain": [
       "'Iris-virginica'"
      ]
     },
     "execution_count": 588,
     "metadata": {},
     "output_type": "execute_result"
    }
   ],
   "source": [
    "knn.predict(X_test.to_numpy()[0])"
   ]
  },
  {
   "cell_type": "code",
   "execution_count": 589,
   "metadata": {},
   "outputs": [],
   "source": [
    "y_preds = knn.predict_dataset(X_test.to_numpy())"
   ]
  },
  {
   "cell_type": "code",
   "execution_count": 590,
   "metadata": {},
   "outputs": [
    {
     "data": {
      "text/plain": [
       "28"
      ]
     },
     "execution_count": 590,
     "metadata": {},
     "output_type": "execute_result"
    }
   ],
   "source": [
    "sum(y_preds == y_test)"
   ]
  },
  {
   "cell_type": "code",
   "execution_count": 591,
   "metadata": {},
   "outputs": [
    {
     "data": {
      "text/plain": [
       "0.9333333333333333"
      ]
     },
     "execution_count": 591,
     "metadata": {},
     "output_type": "execute_result"
    }
   ],
   "source": [
    "f1_score(y_test.to_numpy(),y_preds,average = 'micro' )"
   ]
  },
  {
   "cell_type": "code",
   "execution_count": 594,
   "metadata": {},
   "outputs": [],
   "source": [
    "# Наташа\n",
    "# Функция, вычисляющая расстояние между двумя наблюдениями\n",
    "def distance(nabl1, nabl2):\n",
    "  feature_distances = []\n",
    "  for i in range(nabl1.size):\n",
    "    feature_distances.append((nabl1[i] - nabl2[i])**2)\n",
    "\n",
    "  return math.sqrt(np.sum(feature_distances))\n",
    "\n",
    "# Функцию, которая согласно расстояния подбирает k ближайших соседей, и отдает обратно их индексы в предоставленном dataset\n",
    "def find_neighbours(nabl : pd.Series, X_train : pd.DataFrame, k : int) -> list:\n",
    "  distances = {}\n",
    "  for index, row in X_train.iterrows(): # Для каждого наблюдения из обучающей выборки\n",
    "    distances[index] = (distance(nabl, row)) # Посчитаем расстояние до заданного наблюдения\n",
    "\n",
    "  distances = pd.Series(distances)\n",
    "  distances = distances.sort_values().iloc[:k]\n",
    "\n",
    "  ix = distances.index\n",
    "  return ix\n",
    "\n",
    "\n",
    "class My_Knn:\n",
    "  k = 1\n",
    "  X_train = None\n",
    "  y_train = None\n",
    "  is_fitted = False\n",
    "\n",
    "  def __init__(self, X_train, y_train, k):\n",
    "    self.k = k\n",
    "    self.X_train = X_train\n",
    "    self.y_train = y_train\n",
    "\n",
    "  def predict(self, X_test):\n",
    "    predictions = {}\n",
    "    for ix, nabl in X_test.iterrows(): # Для каждого неопознанного ириса\n",
    "\n",
    "      nearest_neighbours_ix = find_neighbours(nabl, self.X_train, self.k) # Находим ближайших k соседей в обучающем множестве (гербарии), забираем их индексы\n",
    "      mode_value = self.y_train.loc[nearest_neighbours_ix].mode()[0] # По индексам забираем модальное значение\n",
    "      predictions[ix] = mode_value\n",
    "\n",
    "    return pd.Series(predictions)"
   ]
  },
  {
   "cell_type": "code",
   "execution_count": 592,
   "metadata": {},
   "outputs": [
    {
     "data": {
      "text/html": [
       "<div>\n",
       "<style scoped>\n",
       "    .dataframe tbody tr th:only-of-type {\n",
       "        vertical-align: middle;\n",
       "    }\n",
       "\n",
       "    .dataframe tbody tr th {\n",
       "        vertical-align: top;\n",
       "    }\n",
       "\n",
       "    .dataframe thead th {\n",
       "        text-align: right;\n",
       "    }\n",
       "</style>\n",
       "<table border=\"1\" class=\"dataframe\">\n",
       "  <thead>\n",
       "    <tr style=\"text-align: right;\">\n",
       "      <th></th>\n",
       "      <th>my_model</th>\n",
       "      <th>skl_model</th>\n",
       "      <th>k_value</th>\n",
       "    </tr>\n",
       "  </thead>\n",
       "  <tbody>\n",
       "    <tr>\n",
       "      <th>1</th>\n",
       "      <td>0.90</td>\n",
       "      <td>0.90</td>\n",
       "      <td>1</td>\n",
       "    </tr>\n",
       "    <tr>\n",
       "      <th>2</th>\n",
       "      <td>0.87</td>\n",
       "      <td>0.87</td>\n",
       "      <td>2</td>\n",
       "    </tr>\n",
       "    <tr>\n",
       "      <th>3</th>\n",
       "      <td>0.93</td>\n",
       "      <td>0.93</td>\n",
       "      <td>3</td>\n",
       "    </tr>\n",
       "    <tr>\n",
       "      <th>4</th>\n",
       "      <td>0.97</td>\n",
       "      <td>0.97</td>\n",
       "      <td>4</td>\n",
       "    </tr>\n",
       "    <tr>\n",
       "      <th>5</th>\n",
       "      <td>0.93</td>\n",
       "      <td>0.93</td>\n",
       "      <td>5</td>\n",
       "    </tr>\n",
       "    <tr>\n",
       "      <th>6</th>\n",
       "      <td>0.93</td>\n",
       "      <td>0.93</td>\n",
       "      <td>6</td>\n",
       "    </tr>\n",
       "    <tr>\n",
       "      <th>7</th>\n",
       "      <td>0.93</td>\n",
       "      <td>0.93</td>\n",
       "      <td>7</td>\n",
       "    </tr>\n",
       "    <tr>\n",
       "      <th>8</th>\n",
       "      <td>0.93</td>\n",
       "      <td>0.93</td>\n",
       "      <td>8</td>\n",
       "    </tr>\n",
       "    <tr>\n",
       "      <th>9</th>\n",
       "      <td>0.97</td>\n",
       "      <td>0.97</td>\n",
       "      <td>9</td>\n",
       "    </tr>\n",
       "    <tr>\n",
       "      <th>10</th>\n",
       "      <td>0.93</td>\n",
       "      <td>0.93</td>\n",
       "      <td>10</td>\n",
       "    </tr>\n",
       "    <tr>\n",
       "      <th>11</th>\n",
       "      <td>0.97</td>\n",
       "      <td>0.97</td>\n",
       "      <td>11</td>\n",
       "    </tr>\n",
       "    <tr>\n",
       "      <th>12</th>\n",
       "      <td>0.93</td>\n",
       "      <td>0.93</td>\n",
       "      <td>12</td>\n",
       "    </tr>\n",
       "    <tr>\n",
       "      <th>13</th>\n",
       "      <td>0.93</td>\n",
       "      <td>0.93</td>\n",
       "      <td>13</td>\n",
       "    </tr>\n",
       "    <tr>\n",
       "      <th>14</th>\n",
       "      <td>0.90</td>\n",
       "      <td>0.90</td>\n",
       "      <td>14</td>\n",
       "    </tr>\n",
       "    <tr>\n",
       "      <th>15</th>\n",
       "      <td>0.97</td>\n",
       "      <td>0.97</td>\n",
       "      <td>15</td>\n",
       "    </tr>\n",
       "    <tr>\n",
       "      <th>16</th>\n",
       "      <td>0.93</td>\n",
       "      <td>0.93</td>\n",
       "      <td>16</td>\n",
       "    </tr>\n",
       "    <tr>\n",
       "      <th>17</th>\n",
       "      <td>0.93</td>\n",
       "      <td>0.93</td>\n",
       "      <td>17</td>\n",
       "    </tr>\n",
       "    <tr>\n",
       "      <th>18</th>\n",
       "      <td>0.90</td>\n",
       "      <td>0.90</td>\n",
       "      <td>18</td>\n",
       "    </tr>\n",
       "    <tr>\n",
       "      <th>19</th>\n",
       "      <td>0.90</td>\n",
       "      <td>0.90</td>\n",
       "      <td>19</td>\n",
       "    </tr>\n",
       "    <tr>\n",
       "      <th>20</th>\n",
       "      <td>0.90</td>\n",
       "      <td>0.90</td>\n",
       "      <td>20</td>\n",
       "    </tr>\n",
       "  </tbody>\n",
       "</table>\n",
       "</div>"
      ],
      "text/plain": [
       "    my_model  skl_model k_value\n",
       "1       0.90       0.90       1\n",
       "2       0.87       0.87       2\n",
       "3       0.93       0.93       3\n",
       "4       0.97       0.97       4\n",
       "5       0.93       0.93       5\n",
       "6       0.93       0.93       6\n",
       "7       0.93       0.93       7\n",
       "8       0.93       0.93       8\n",
       "9       0.97       0.97       9\n",
       "10      0.93       0.93      10\n",
       "11      0.97       0.97      11\n",
       "12      0.93       0.93      12\n",
       "13      0.93       0.93      13\n",
       "14      0.90       0.90      14\n",
       "15      0.97       0.97      15\n",
       "16      0.93       0.93      16\n",
       "17      0.93       0.93      17\n",
       "18      0.90       0.90      18\n",
       "19      0.90       0.90      19\n",
       "20      0.90       0.90      20"
      ]
     },
     "execution_count": 592,
     "metadata": {},
     "output_type": "execute_result"
    }
   ],
   "source": [
    "def explore_optimal_k(kmin, kmax):\n",
    "  stats = pd.DataFrame(columns = ['my_model', 'skl_model', 'k_value'])\n",
    "\n",
    "  for k in range (kmin, kmax+1):\n",
    "    knn = KNeighborsClassifier(k).fit(X_train, y_train)\n",
    "    my_knn = My_Knn(X_train, y_train, k)\n",
    "\n",
    "    sk_pred = knn.predict(X_test)\n",
    "    my_pred = my_knn.predict(X_test)\n",
    "\n",
    "    sk_er = f1_score(y_test, sk_pred, average = 'micro')\n",
    "    my_er = f1_score(y_test, my_pred, average = 'micro')\n",
    "    result = {'skl_model' : round(sk_er, 2),\n",
    "              'my_model' : round(my_er, 2),\n",
    "              'k_value' : k}\n",
    "\n",
    "    stats = pd.concat([stats, pd.DataFrame(result, index = [k])])\n",
    "  return stats\n",
    "\n",
    "explore_optimal_k(1, 20)"
   ]
  },
  {
   "cell_type": "markdown",
   "metadata": {},
   "source": [
    "Вывод: Качество нашей модели совпадает с качеством модели scikit-learn, впервые значение оценки F1-score = 0.97 впервые встретилось при k = 4, поэтому 4 соседа — это оптимально."
   ]
  }
 ],
 "metadata": {
  "kernelspec": {
   "display_name": "Python 3",
   "language": "python",
   "name": "python3"
  },
  "language_info": {
   "codemirror_mode": {
    "name": "ipython",
    "version": 3
   },
   "file_extension": ".py",
   "mimetype": "text/x-python",
   "name": "python",
   "nbconvert_exporter": "python",
   "pygments_lexer": "ipython3",
   "version": "3.8.5"
  }
 },
 "nbformat": 4,
 "nbformat_minor": 5
}
